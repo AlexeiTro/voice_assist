{
 "cells": [
  {
   "cell_type": "code",
   "execution_count": 1,
   "id": "e7466925",
   "metadata": {},
   "outputs": [
    {
     "name": "stderr",
     "output_type": "stream",
     "text": [
      "/home/tlr4fe/git/voice_assist/.venv/lib/python3.10/site-packages/tqdm/auto.py:21: TqdmWarning: IProgress not found. Please update jupyter and ipywidgets. See https://ipywidgets.readthedocs.io/en/stable/user_install.html\n",
      "  from .autonotebook import tqdm as notebook_tqdm\n"
     ]
    }
   ],
   "source": [
    "import os\n",
    "import tempfile\n",
    "import logging\n",
    "import json\n",
    "from typing import Dict, Any, Optional, Union\n",
    "from datetime import datetime\n",
    "\n",
    "import torch\n",
    "import numpy as np\n",
    "import soundfile as sf\n",
    "import noisereduce as nr\n",
    "from scipy import signal\n",
    "import whisper"
   ]
  },
  {
   "cell_type": "code",
   "execution_count": 2,
   "id": "e15b0970",
   "metadata": {},
   "outputs": [],
   "source": [
    "audio_path = \"/home/tlr4fe/git/voice_assist/data/test_audios/poor-audio.ogg\""
   ]
  },
  {
   "cell_type": "code",
   "execution_count": 3,
   "id": "49805389",
   "metadata": {},
   "outputs": [],
   "source": [
    "audio, sr = sf.read(audio_path)"
   ]
  },
  {
   "cell_type": "code",
   "execution_count": 4,
   "id": "902ac3bc",
   "metadata": {},
   "outputs": [],
   "source": [
    "# Convert to mono\n",
    "if audio.ndim > 1:\n",
    "    audio = np.mean(audio, axis=1)"
   ]
  },
  {
   "cell_type": "code",
   "execution_count": 5,
   "id": "18e8f83e",
   "metadata": {},
   "outputs": [
    {
     "data": {
      "text/plain": [
       "array([ 1.76884209e-10,  1.18608362e-09, -2.15611312e-09, ...,\n",
       "       -3.70647176e-04, -2.64654635e-04, -2.06871358e-04],\n",
       "      shape=(4632192,))"
      ]
     },
     "execution_count": 5,
     "metadata": {},
     "output_type": "execute_result"
    }
   ],
   "source": [
    "audio"
   ]
  },
  {
   "cell_type": "code",
   "execution_count": 6,
   "id": "86992ffd",
   "metadata": {},
   "outputs": [],
   "source": [
    "# High-pass filter\n",
    "cutoff = 100\n",
    "sos = signal.butter(10, cutoff, 'hp', fs=sr, output='sos')\n",
    "audio = signal.sosfilt(sos, audio)"
   ]
  },
  {
   "cell_type": "code",
   "execution_count": 7,
   "id": "12c16e5c",
   "metadata": {},
   "outputs": [
    {
     "data": {
      "text/plain": [
       "array([ 1.69009734e-10,  1.11788904e-09, -2.17803525e-09, ...,\n",
       "        7.24238202e-03,  7.91309061e-03,  8.52347647e-03],\n",
       "      shape=(4632192,))"
      ]
     },
     "execution_count": 7,
     "metadata": {},
     "output_type": "execute_result"
    }
   ],
   "source": [
    "audio"
   ]
  },
  {
   "cell_type": "code",
   "execution_count": 8,
   "id": "0871eb17",
   "metadata": {},
   "outputs": [
    {
     "data": {
      "text/plain": [
       "memmap([-2.05699430e-12, -4.34362443e-12,  8.34037090e-12, ...,\n",
       "        -3.71256276e-04, -7.64117077e-04,  1.90784599e-04],\n",
       "       shape=(4632192,))"
      ]
     },
     "execution_count": 8,
     "metadata": {},
     "output_type": "execute_result"
    }
   ],
   "source": [
    "# Denoise\n",
    "audio = nr.reduce_noise(y=audio, sr=sr)\n",
    "audio"
   ]
  },
  {
   "cell_type": "code",
   "execution_count": 9,
   "id": "8f10f250",
   "metadata": {},
   "outputs": [
    {
     "data": {
      "text/plain": [
       "array([-3.99177942e-12, -8.42918746e-12,  1.61852275e-11, ...,\n",
       "       -7.20455647e-04, -1.48283678e-03,  3.70234391e-04],\n",
       "      shape=(4632192,))"
      ]
     },
     "execution_count": 9,
     "metadata": {},
     "output_type": "execute_result"
    }
   ],
   "source": [
    "# Normalize\n",
    "peak = np.max(np.abs(audio)) + 1e-8\n",
    "audio = audio / peak\n",
    "audio"
   ]
  }
 ],
 "metadata": {
  "kernelspec": {
   "display_name": ".venv",
   "language": "python",
   "name": "python3"
  },
  "language_info": {
   "codemirror_mode": {
    "name": "ipython",
    "version": 3
   },
   "file_extension": ".py",
   "mimetype": "text/x-python",
   "name": "python",
   "nbconvert_exporter": "python",
   "pygments_lexer": "ipython3",
   "version": "3.10.12"
  }
 },
 "nbformat": 4,
 "nbformat_minor": 5
}
